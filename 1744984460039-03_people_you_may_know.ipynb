{
 "cells": [
  {
   "cell_type": "markdown",
   "id": "6905b43c-295a-4e85-9b42-779f55e08e17",
   "metadata": {},
   "source": [
    "# Finding \"People You May Know\"\n",
    "\n",
    "## **Introduction**\n",
    "Now that our data is cleaned and structured, your manager assigns you a new task: **Build a 'People You May Know' feature!**\n",
    "\n",
    "In social networks, this feature helps users connect with others by suggesting friends based on mutual connections. Your job is to **analyze mutual friends and recommend potential connections**.\n",
    "\n",
    "---\n",
    "\n",
    "## **Task 1: Understand the Logic**\n",
    "### **How 'People You May Know' Works:**\n",
    "- If **User A** and **User B** are not friends but have **mutual friends**, we suggest User B to User A and vice versa.\n",
    "- More mutual friends = higher priority recommendation.\n",
    "\n",
    "Example:\n",
    "- **Amit (ID: 1)** is friends with **Priya (ID: 2)** and **Rahul (ID: 3)**.\n",
    "- **Priya (ID: 2)** is friends with **Sara (ID: 4)**.\n",
    "- Amit is not directly friends with Sara, but they share **Priya as a mutual friend**.\n",
    "- Suggest **Sara to Amit** as \"People You May Know\".\n",
    "\n",
    "---\n",
    "\n",
    "## **Task 2: Implement the Algorithm**\n",
    "We'll create a function that:\n",
    "1. Finds all friends of a given user.\n",
    "2. Identifies mutual friends between non-friends.\n",
    "3. Ranks recommendations by the number of mutual friends.\n",
    "\n",
    "### **Code Implementation**\n",
    "```python\n",
    "import json\n",
    "\n",
    "def load_data(filename):\n",
    "    with open(filename, \"r\") as file:\n",
    "        return json.load(file)\n",
    "\n",
    "def find_people_you_may_know(user_id, data):\n",
    "    user_friends = {}\n",
    "    for user in data[\"users\"]:\n",
    "        user_friends[user[\"id\"]] = set(user[\"friends\"])\n",
    "    \n",
    "    if user_id not in user_friends:\n",
    "        return []\n",
    "    \n",
    "    direct_friends = user_friends[user_id]\n",
    "    suggestions = {}\n",
    "    \n",
    "    for friend in direct_friends:\n",
    "        # For all friends of friend\n",
    "        for mutual in user_friends[friend]:\n",
    "            # If mutual id is not the same user and not already a direct friend of user\n",
    "            if mutual != user_id and mutual not in direct_friends:\n",
    "                # Count mutual friends\n",
    "                suggestions[mutual] = suggestions.get(mutual, 0) + 1\n",
    "    \n",
    "    sorted_suggestions = sorted(suggestions.items(), key=lambda x: x[1], reverse=True)\n",
    "    return [user_id for user_id, _ in sorted_suggestions]\n",
    "\n",
    "# Load data\n",
    "data = load_data(\"cleaned_codebook_data.json\")\n",
    "user_id = 1  # Example: Finding suggestions for Amit\n",
    "recommendations = find_people_you_may_know(user_id, data)\n",
    "print(f\"People You May Know for User {user_id}: {recommendations}\")\n",
    "```\n",
    "\n",
    "---\n",
    "\n",
    "## **Expected Output:**\n",
    "If Amit (ID: 1) and Sara (ID: 4) share Priya (ID: 2) as a mutual friend, the output might be:\n",
    "```\n",
    "People You May Know for User 1: [4]\n",
    "```\n",
    "This suggests that **Amit should connect with Sara!**\n",
    "\n",
    "---\n",
    "\n",
    "## **Next Steps**\n",
    "Your manager is excited about your progress and now says: **\"Great job! Next, let's find 'Pages You Might Like' based on your connections and preferences.\"**\n",
    "\n",
    "\n"
   ]
  },
  {
   "cell_type": "code",
   "execution_count": 33,
   "id": "543f2704-447d-469e-95ee-5240949a3696",
   "metadata": {},
   "outputs": [
    {
     "name": "stdout",
     "output_type": "stream",
     "text": [
      "[11, 6, 4, 7, 14, 15, 18, 1, 2, 3, 13, 22]\n"
     ]
    }
   ],
   "source": [
    "import json\n",
    "\n",
    "def load_data(filename):\n",
    "    with open(filename, \"r\") as f:\n",
    "        return json.load(f)\n",
    "        \n",
    "def find_people_you_may_know(user_id, data):\n",
    "    user_friends = {}\n",
    "    for user in data['users']:\n",
    "        user_friends[user['id']] = set(user['friends'])\n",
    "        \n",
    "    if user_id not in user_friends:\n",
    "        return []\n",
    "\n",
    "    direct_friends = user_friends[user_id]\n",
    "    suggestions = {}\n",
    "    for friend in direct_friends:\n",
    "        for mutual in user_friends[friend]:\n",
    "            if mutual!=user_id and mutual not in direct_friends:\n",
    "                \n",
    "                # Count mutual friends\n",
    "                suggestions[mutual] = suggestions.get(mutual, 0) + 1\n",
    "    sorted_suggestions = sorted(suggestions.items(), key=lambda x: x[1], reverse=True)   \n",
    "    return [user_id for user_id, mutual_count in sorted_suggestions]\n",
    "# Load the data\n",
    "data = load_data(\"massive_data.json\")\n",
    "user_id = 10\n",
    "recc = find_people_you_may_know(user_id, data)\n",
    "print(recc)\n",
    "    "
   ]
  },
  {
   "cell_type": "code",
   "execution_count": 2,
   "id": "e30565c2-dcf6-420a-8b23-7ca4b7e5437e",
   "metadata": {},
   "outputs": [],
   "source": [
    "import json"
   ]
  },
  {
   "cell_type": "code",
   "execution_count": 4,
   "id": "53fdbfb5-e3e4-4ad3-92f9-90d26f74dbe7",
   "metadata": {},
   "outputs": [],
   "source": [
    "def load_data(filename):\n",
    "    with open(filename, \"r\") as f:\n",
    "        return json.load(f)"
   ]
  },
  {
   "cell_type": "code",
   "execution_count": 86,
   "id": "31dd4354-6abe-43db-b024-206eeb1b0956",
   "metadata": {},
   "outputs": [],
   "source": [
    "def find_people_you_may_know(user_id, data):\n",
    "    user_friends = {}\n",
    "    for user in data['users']:\n",
    "        user_friends[user['id']] = set(user['friends'])\n",
    "    print(user_friends)    \n",
    "    if user_id not in user_friends:\n",
    "        return []\n",
    "\n",
    "    direct_friends = user_friends[user_id]\n",
    "    print(direct_friends)\n",
    "    suggestions = {}\n",
    "    for friend in direct_friends:\n",
    "        for mutual in user_friends[friend]:\n",
    "           \n",
    "            if mutual!=user_id and mutual not in direct_friends:\n",
    "                print(mutual)\n",
    "                \n",
    "                # Count mutual friends\n",
    "                suggestions[mutual] = suggestions.get(mutual, 0) + 1\n",
    "                print(suggestions)\n",
    "    sorted_suggestions = sorted(suggestions.items(), key=lambda x: x[1], reverse=True)   \n",
    "    print(sorted_suggestions)\n",
    "    return [user_id for user_id, mutual_count in sorted_suggestions]\n",
    "   "
   ]
  },
  {
   "cell_type": "code",
   "execution_count": 88,
   "id": "e5f17fa6-b676-4310-bc42-ed4fa3d35bf1",
   "metadata": {},
   "outputs": [
    {
     "name": "stdout",
     "output_type": "stream",
     "text": [
      "{1: {2, 3}, 2: {1, 4}, 3: {1}, 4: {2}}\n",
      "{2, 3}\n",
      "4\n",
      "{4: 1}\n",
      "[(4, 1)]\n",
      "[4]\n"
     ]
    }
   ],
   "source": [
    "# Load the data\n",
    "data = load_data(\"codebook_data.json\")\n",
    "user_id = 1\n",
    "recc = find_people_you_may_know(user_id, data)\n",
    "print(recc)"
   ]
  }
 ],
 "metadata": {
  "kernelspec": {
   "display_name": "Python [conda env:base] *",
   "language": "python",
   "name": "conda-base-py"
  },
  "language_info": {
   "codemirror_mode": {
    "name": "ipython",
    "version": 3
   },
   "file_extension": ".py",
   "mimetype": "text/x-python",
   "name": "python",
   "nbconvert_exporter": "python",
   "pygments_lexer": "ipython3",
   "version": "3.12.7"
  }
 },
 "nbformat": 4,
 "nbformat_minor": 5
}
